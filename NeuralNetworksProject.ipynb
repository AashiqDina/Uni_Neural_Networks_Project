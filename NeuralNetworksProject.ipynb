{
  "cells": [
    {
      "cell_type": "markdown",
      "metadata": {
        "id": "view-in-github",
        "colab_type": "text"
      },
      "source": [
        "<a href=\"https://colab.research.google.com/github/AashiqDina/Uni_Neural_Networks_Project/blob/main/NeuralNetworksProject.ipynb\" target=\"_parent\"><img src=\"https://colab.research.google.com/assets/colab-badge.svg\" alt=\"Open In Colab\"/></a>"
      ]
    },
    {
      "cell_type": "markdown",
      "metadata": {
        "id": "fJf-ERq_-pTG"
      },
      "source": [
        "# Imports:"
      ]
    },
    {
      "cell_type": "code",
      "execution_count": 1,
      "metadata": {
        "id": "0zCfUHTfV2uE"
      },
      "outputs": [],
      "source": [
        "import torch\n",
        "from torch import nn\n",
        "import torchvision\n",
        "from torchvision import transforms\n",
        "from torch.utils import data\n",
        "import torch.nn.functional as F\n",
        "import sys\n",
        "import time\n",
        "import zipfile\n",
        "from matplotlib import pyplot as plt\n",
        "from IPython import display"
      ]
    },
    {
      "cell_type": "markdown",
      "metadata": {
        "id": "k8-tAcli-pTQ"
      },
      "source": [
        "# Read dataset and create dataloaders:"
      ]
    },
    {
      "cell_type": "code",
      "execution_count": 2,
      "metadata": {
        "colab": {
          "base_uri": "https://localhost:8080/"
        },
        "id": "4onGMhACKthz",
        "outputId": "efaf1534-707c-4060-eb1a-e150b81ac388"
      },
      "outputs": [
        {
          "output_type": "stream",
          "name": "stdout",
          "text": [
            "Downloading https://www.cs.toronto.edu/~kriz/cifar-10-python.tar.gz to ../data/cifar-10-python.tar.gz\n"
          ]
        },
        {
          "output_type": "stream",
          "name": "stderr",
          "text": [
            "100%|██████████| 170498071/170498071 [00:02<00:00, 68794624.53it/s]\n"
          ]
        },
        {
          "output_type": "stream",
          "name": "stdout",
          "text": [
            "Extracting ../data/cifar-10-python.tar.gz to ../data\n",
            "Files already downloaded and verified\n"
          ]
        }
      ],
      "source": [
        "Util = sys.modules\n",
        "\n",
        "# Set the data augmentation to be applied\n",
        "trans = transforms.Compose([\n",
        "    transforms.RandomHorizontalFlip(),\n",
        "    transforms.Resize((16, 16)),\n",
        "    transforms.ColorJitter(brightness=0.1, contrast=0.1, saturation=0.1, hue=0.1),\n",
        "    transforms.ToTensor(),\n",
        "    transforms.Normalize((0.5, 0.5, 0.5), (0.5, 0.5, 0.5))\n",
        "])\n",
        "\n",
        "# Read Datasets\n",
        "TrainDataset = torchvision.datasets.CIFAR10(root=\"../data\", train=True, transform=trans, download=True)\n",
        "TestDataset = torchvision.datasets.CIFAR10(root=\"../data\", train=False, transform=trans, download=True)\n",
        "\n",
        "# Create Dataloaders\n",
        "TrainLoader = data.DataLoader(TrainDataset, batch_size=128, shuffle=True, num_workers=2)\n",
        "TestLoader = data.DataLoader(TestDataset, batch_size=128, shuffle=False, num_workers=2)"
      ]
    },
    {
      "cell_type": "markdown",
      "metadata": {
        "id": "3WVWrFpi-pTT"
      },
      "source": [
        "# Blocks:"
      ]
    },
    {
      "cell_type": "code",
      "execution_count": 3,
      "metadata": {
        "id": "dVHHHM6BJTMg"
      },
      "outputs": [],
      "source": [
        "class Blocks(torch.nn.Module):\n",
        "  def __init__(self, numberOfInputs, numberOfOutputs, First):\n",
        "    super(Blocks, self).__init__()\n",
        "\n",
        "    self.numberOfInputs = numberOfInputs\n",
        "    self.numberOfOutputs = numberOfOutputs\n",
        "    self.First = First\n",
        "\n",
        "    # Below defines the convolutional layers\n",
        "    if(First):\n",
        "      self.Convl1 = nn.Conv2d(numberOfInputs, numberOfOutputs, kernel_size=5, padding=2)\n",
        "      self.Convl2 = nn.Conv2d(numberOfInputs, numberOfOutputs, kernel_size=5, padding=2)\n",
        "    else:\n",
        "      self.Convl1 = nn.Conv2d(numberOfInputs, numberOfOutputs, kernel_size=5, padding=2)\n",
        "      self.Convl2 = nn.Conv2d(numberOfInputs, numberOfOutputs, kernel_size=5, padding=2)\n",
        "      self.Convl3 = nn.Conv2d(numberOfInputs, numberOfOutputs, kernel_size=5, padding=2)\n",
        "\n",
        "    # Below defines batch normalisation to normalise the output if the Conv layers in relation to the number of input channels\n",
        "    self.batchNormalisation1 = nn.BatchNorm2d(numberOfOutputs)\n",
        "    self.batchNormalisation2 = nn.BatchNorm2d(numberOfOutputs)\n",
        "    self.batchNormalisation3 = nn.BatchNorm2d(numberOfOutputs)\n",
        "\n",
        "    # Below defines the linear layer\n",
        "    self.Linear1 = nn.Linear(numberOfInputs,numberOfOutputs)\n",
        "\n",
        "    # Below defined dropout to help with overfitting\n",
        "    self.Dropout = nn.Dropout(0.17)\n",
        "\n",
        "    # Below defined maxpooling\n",
        "    self.Maxpool = nn.MaxPool2d(kernel_size=2, stride=2)\n",
        "\n",
        "    # Below is the chosen activation function\n",
        "    self.LeakyRelu = nn.LeakyReLU(negative_slope=0.1)\n",
        "    self.LeakyRelu2 = nn.LeakyReLU(negative_slope=0.1, inplace=True)\n",
        "\n",
        "      #Below defined AdaptiveAveragePool2d to find the SpatialAveragePool\n",
        "    self.Avg = nn.AdaptiveAvgPool2d(numberOfInputs)\n",
        "\n",
        "  def forward(self, x):\n",
        "\n",
        "    # Below each  Convolutional layer is declared in parallel and uses makes use of that was defined above\n",
        "    Convl1X = self.Convl1(x)\n",
        "    Convl1X = self.batchNormalisation1(Convl1X)\n",
        "    Convl1X = self.LeakyRelu2(Convl1X)\n",
        "    Convl1X = self.Dropout(Convl1X)\n",
        "    Convl1X = self.Maxpool(Convl1X)\n",
        "\n",
        "    Convl2X = self.Convl2(x)\n",
        "    Convl2X = self.batchNormalisation2(Convl2X)\n",
        "    Convl2X = self.LeakyRelu2(Convl2X)\n",
        "    Convl2X = self.Dropout(Convl2X)\n",
        "    Convl2X = self.Maxpool(Convl2X)\n",
        "\n",
        "    # First Block will only have 2 convolutional layers\n",
        "    if(not self.First):\n",
        "        Convl3X = self.Convl3(x)\n",
        "        Convl3X = self.batchNormalisation3(Convl3X)\n",
        "        Convl3X = self.LeakyRelu2(Convl3X)\n",
        "        Convl3X = self.Dropout(Convl3X)\n",
        "        Convl3X = self.Maxpool(Convl3X)\n",
        "\n",
        "    # Below finds the spatialAveragePool of x\n",
        "    PooledValue = self.Avg(x)\n",
        "    SqueezePooledValue = PooledValue.squeeze()\n",
        "\n",
        "    # Below the linear transformation is applied\n",
        "    LinearX = self.Linear1(SqueezePooledValue)\n",
        "    LinearX = LinearX.reshape(LinearX.size(0), -1, 1, 1)\n",
        "    LinearX = self.LeakyRelu(LinearX)\n",
        "\n",
        "    # Declare a1,... from a (LinearX) above\n",
        "    a1 = self.LeakyRelu(LinearX[:, 0].unsqueeze(1))\n",
        "    a2 = self.LeakyRelu(LinearX[:, 1].unsqueeze(1))\n",
        "\n",
        "    # a1,... is multiplied by the output of each convolutional layer to get the final output\n",
        "    if(not self.First):\n",
        "      a3 = self.LeakyRelu(LinearX[:, 2].unsqueeze(1))\n",
        "      out = (a1 * Convl1X) + (a2 * Convl2X) + (a3 * Convl3X)\n",
        "    else:\n",
        "      out = (a1 * Convl1X) + (a2 * Convl2X)\n",
        "\n",
        "    # return this final output\n",
        "    return out"
      ]
    },
    {
      "cell_type": "markdown",
      "metadata": {
        "id": "e7cxGFma-pTV"
      },
      "source": [
        "# Backbone:"
      ]
    },
    {
      "cell_type": "code",
      "execution_count": 4,
      "metadata": {
        "id": "WvDBTPsOGe7F"
      },
      "outputs": [],
      "source": [
        "class Backbone(nn.Module):\n",
        "  def __init__(self, numberOfInputs, numberOfOutputs):\n",
        "    super(Backbone, self).__init__()\n",
        "\n",
        "    # Decalre the blocks\n",
        "    self.Block1 = Blocks(numberOfInputs, numberOfOutputs, True,)\n",
        "    self.Block2 = Blocks(numberOfOutputs, numberOfOutputs*2, False)\n",
        "    self.Block3 = Blocks(numberOfOutputs*2, numberOfOutputs*4, False)\n",
        "    self.Block4 = Blocks(numberOfOutputs*4, numberOfOutputs*8, False)\n",
        "\n",
        "  def forward(self, x):\n",
        "\n",
        "    #Pass x to the first block and the output of each block to the next\n",
        "    OutputBlock = self.Block1(x)\n",
        "    OutputBlock = self.Block2(OutputBlock)\n",
        "    OutputBlock = self.Block3(OutputBlock)\n",
        "    OutputBlock = self.Block4(OutputBlock)\n",
        "\n",
        "    #return the output of the final block\n",
        "    return OutputBlock"
      ]
    },
    {
      "cell_type": "markdown",
      "metadata": {
        "id": "Db7eN_Qo-pTX"
      },
      "source": [
        "# Classifier:"
      ]
    },
    {
      "cell_type": "code",
      "execution_count": 5,
      "metadata": {
        "id": "eH8091_pGwBJ"
      },
      "outputs": [],
      "source": [
        "class Classifier(nn.Module):\n",
        "  def __init__(self, numberOfInputs):\n",
        "    super(Classifier, self).__init__()\n",
        "\n",
        "    # Declare final number of classes\n",
        "    NumberOfClasses = 10\n",
        "\n",
        "    # Defines the spatialAveragePool and the classifier\n",
        "    self.Avg = nn.AvgPool2d(kernel_size=None)\n",
        "    self.Linear1 = nn.Linear(numberOfInputs, NumberOfClasses)\n",
        "\n",
        "  def forward(self, x):\n",
        "\n",
        "    # Finds the spatialAveragePool and performs the classification\n",
        "    self.Avg.kernel_size = x.shape[2:]\n",
        "    PooledValue = self.Avg(x)\n",
        "    FlatPooledValue = PooledValue.squeeze()\n",
        "    out = self.Linear1(FlatPooledValue)\n",
        "\n",
        "    return out\n"
      ]
    },
    {
      "cell_type": "markdown",
      "metadata": {
        "id": "k9-wH1Dr-pTZ"
      },
      "source": [
        "# Model:"
      ]
    },
    {
      "cell_type": "code",
      "execution_count": 6,
      "metadata": {
        "id": "twoeZ3BgH2C0"
      },
      "outputs": [],
      "source": [
        "class Model(nn.Module):\n",
        "  def __init__(self, numberOfInputs, numberOfOutputs):\n",
        "    super(Model, self).__init__()\n",
        "\n",
        "    # Defines the backbone and classifier\n",
        "    self.Backbone = Backbone(numberOfInputs, numberOfOutputs)\n",
        "    self.Classifier = Classifier(numberOfOutputs*8)\n",
        "\n",
        "  def forward(self, x):\n",
        "\n",
        "    # Passes X to the backbone and the output of the backbone is passed through the classifier\n",
        "    out = self.Backbone(x)\n",
        "    out = self.Classifier(out)\n",
        "\n",
        "    # returns the output of the classifier\n",
        "    return out\n"
      ]
    },
    {
      "cell_type": "code",
      "execution_count": 7,
      "metadata": {
        "id": "a2Yxhza6oNsW"
      },
      "outputs": [],
      "source": [
        "# Declare the number of input and output channels\n",
        "numberOfInputs = 3\n",
        "numberOfOutputs = 16\n",
        "\n",
        "# Declare the Model\n",
        "Model = Model(numberOfInputs, numberOfOutputs)"
      ]
    },
    {
      "cell_type": "markdown",
      "metadata": {
        "id": "Lt_UJ6cAsZdo"
      },
      "source": [
        "# Loss and optimizer:"
      ]
    },
    {
      "cell_type": "code",
      "execution_count": 8,
      "metadata": {
        "id": "F1QPf-CRPfpJ",
        "colab": {
          "base_uri": "https://localhost:8080/"
        },
        "outputId": "5aeebc37-8521-452a-a375-01fdda4e15bb"
      },
      "outputs": [
        {
          "output_type": "stream",
          "name": "stderr",
          "text": [
            "/usr/local/lib/python3.10/dist-packages/torch/optim/lr_scheduler.py:60: UserWarning: The verbose parameter is deprecated. Please use get_last_lr() to access the learning rate.\n",
            "  warnings.warn(\n"
          ]
        }
      ],
      "source": [
        "# Declare the loss, optimiser and scheduler\n",
        "Loss = nn.CrossEntropyLoss()\n",
        "LearningRate, NumberOfEpochs, batch_size = 0.001, 50, 128\n",
        "Optimizer = torch.optim.AdamW(Model.parameters(), lr=LearningRate)\n",
        "Scheduler = torch.optim.lr_scheduler.StepLR(Optimizer, step_size=5, gamma=0.5, verbose='False')"
      ]
    },
    {
      "cell_type": "markdown",
      "metadata": {
        "id": "c2HDCcPY-pTc"
      },
      "source": [
        "# Training Script"
      ]
    },
    {
      "cell_type": "code",
      "execution_count": 9,
      "metadata": {
        "id": "Hj_djqMG-pTc"
      },
      "outputs": [],
      "source": [
        "class TrainingGraph:\n",
        "    def __init__(self, NumberOfEpochs):\n",
        "        self.Legend = ['Training Loss', 'Training Accuracy', 'Test Accuracy']\n",
        "        display.set_matplotlib_formats('svg')\n",
        "        self.Figure, self.Axes = plt.subplots(1, 1, figsize=(3.5, 2.5))\n",
        "        self.Axes = [self.Axes, ]\n",
        "        self.configureAxes = lambda: SetAxes(self.Axes[0], \"Epoch\", [0, NumberOfEpochs], 'linear', 'linear', self.Legend)\n",
        "        self.X = None\n",
        "        self.Y = None\n",
        "        self.feat = ('-', 'c--', 'r-.', 'g:')\n",
        "\n",
        "    def Add(self, x, y):\n",
        "        if not hasattr(y, \"__len__\"):\n",
        "            y = [y]\n",
        "        if not hasattr(x, \"__len__\"):\n",
        "            x = [x] * len(y)\n",
        "        if not self.Y:\n",
        "            self.Y = [[] for _ in range(len(y))]\n",
        "        if not self.X:\n",
        "            self.X = [[] for _ in range(len(y))]\n",
        "        for i, (a, b) in enumerate(zip(x,y)):\n",
        "            if a is not None and b is not None:\n",
        "                self.X[i].append(a)\n",
        "                self.Y[i].append(b)\n",
        "        self.Axes[0].cla()\n",
        "        for x, y, ftr in zip(self.X, self.Y, self.feat):\n",
        "            self.Axes[0].plot(x, y, ftr)\n",
        "        self.configureAxes()\n",
        "        display.display(self.Figure)\n",
        "        display.clear_output(wait=True)"
      ]
    },
    {
      "cell_type": "code",
      "execution_count": 10,
      "metadata": {
        "id": "aRK-nLRK-pTd"
      },
      "outputs": [],
      "source": [
        "class ToSum:\n",
        "    def __init__(self, n):\n",
        "        self.data = [0.0] * n\n",
        "\n",
        "    def Add(self, *args):\n",
        "        self.data = [a + float(b) for a, b in zip(self.data, args)]\n",
        "\n",
        "    def __getitem__(self, idx):\n",
        "        return self.data[idx]"
      ]
    },
    {
      "cell_type": "code",
      "execution_count": 11,
      "metadata": {
        "id": "oxshKP_R-pTd"
      },
      "outputs": [],
      "source": [
        "def argmax(x, *args, **kwargs):\n",
        "    out = x.argmax(*args, **kwargs)\n",
        "    return out\n",
        "\n",
        "def astype(x, *args, **kwargs):\n",
        "    out = x.type(*args, **kwargs)\n",
        "    return out\n",
        "\n",
        "def ReduceSum(x, *args, **kwargs):\n",
        "    out = x.sum(*args, **kwargs)\n",
        "    return out\n",
        "\n",
        "def size(x, *args, **kwargs):\n",
        "    out = x.numel(*args, **kwargs)\n",
        "    return out\n",
        "\n",
        "def Accuracy(yHat, y):\n",
        "    if len(yHat.shape) > 1 and yHat.shape[1] > 1:\n",
        "        yHat = argmax(yHat, axis=1)\n",
        "    x = astype(yHat, y.dtype) == y\n",
        "    return float(ReduceSum(astype(x, y.dtype)))\n",
        "\n",
        "def GetTestAccuracy(Model, TestLoader):\n",
        "    Model.eval()\n",
        "    device = next(iter(Model.parameters())).device\n",
        "    Index = ToSum(2)\n",
        "    for X, Y in TestLoader:\n",
        "        X = X.to(device)\n",
        "        Y = Y.to(device)\n",
        "        Index.Add(Accuracy(Model(X), Y), size(Y))\n",
        "    return Index[0]/Index[1]\n",
        "\n",
        "def SetAxes(Axes, xlabel, xlim, xscale, yscale, legend):\n",
        "    Axes.set_xlabel(xlabel)\n",
        "    Axes.set_xscale(xscale)\n",
        "    Axes.set_yscale(yscale)\n",
        "    Axes.set_xlim(xlim)\n",
        "    Axes.legend(legend)\n",
        "    Axes.grid()\n",
        "\n",
        "def Train(Model, TrainLoader, TestLoader, Device):\n",
        "    Model.to(Device)\n",
        "    TheTrainingGraph = TrainingGraph(NumberOfEpochs)\n",
        "    for epochs in range(NumberOfEpochs):\n",
        "        print(\"Epoch: \", epochs, \"/\", NumberOfEpochs)\n",
        "        Index = ToSum(3)\n",
        "        for i, (X, Y) in enumerate(TrainLoader):\n",
        "            Model.train()\n",
        "            Optimizer.zero_grad()\n",
        "            X, Y = X.to(device), Y.to(device)\n",
        "            yHat = Model(X)\n",
        "            TheLoss = Loss(yHat, Y)\n",
        "            TheLoss.backward()\n",
        "            Optimizer.step()\n",
        "            with torch.no_grad():\n",
        "                Index.Add(TheLoss*X.shape[0], Accuracy(yHat, Y), X.shape[0])\n",
        "            TrainLoss = Index[0]/Index[2]\n",
        "            TrainAccuracy = Index[1]/Index[2]\n",
        "            if(i+1) % 50 == 0:\n",
        "                TheTrainingGraph.Add(epochs + i/len(TrainLoader), (TrainLoss, TrainAccuracy, None))\n",
        "        if(epochs > 20):\n",
        "            Scheduler.step()\n",
        "        TestAccuracy = GetTestAccuracy(Model, TestLoader)\n",
        "        print(TestAccuracy)\n",
        "        TheTrainingGraph.Add(epochs+1, (None, None, TestAccuracy))\n",
        "        print(\"Loss:\", round(TrainLoss, 3))\n",
        "        print(\"Training Accuracy: \", round(TrainAccuracy, 3))\n",
        "        print(\"Test Accuracy: \", round(TestAccuracy, 3))"
      ]
    },
    {
      "cell_type": "code",
      "execution_count": 12,
      "metadata": {
        "colab": {
          "base_uri": "https://localhost:8080/",
          "height": 318
        },
        "id": "OojsoUc_XQ8M",
        "outputId": "a30f0bde-551f-43aa-a3e0-84e0eed32286"
      },
      "outputs": [
        {
          "output_type": "stream",
          "name": "stdout",
          "text": [
            "Loss: 0.393\n",
            "Training Accuracy:  0.86\n",
            "Test Accuracy:  0.742\n"
          ]
        },
        {
          "output_type": "display_data",
          "data": {
            "text/plain": [
              "<Figure size 350x250 with 1 Axes>"
            ],
            "image/svg+xml": "<?xml version=\"1.0\" encoding=\"utf-8\" standalone=\"no\"?>\n<!DOCTYPE svg PUBLIC \"-//W3C//DTD SVG 1.1//EN\"\n  \"http://www.w3.org/Graphics/SVG/1.1/DTD/svg11.dtd\">\n<svg xmlns:xlink=\"http://www.w3.org/1999/xlink\" width=\"238.965625pt\" height=\"183.35625pt\" viewBox=\"0 0 238.965625 183.35625\" xmlns=\"http://www.w3.org/2000/svg\" version=\"1.1\">\n <metadata>\n  <rdf:RDF xmlns:dc=\"http://purl.org/dc/elements/1.1/\" xmlns:cc=\"http://creativecommons.org/ns#\" xmlns:rdf=\"http://www.w3.org/1999/02/22-rdf-syntax-ns#\">\n   <cc:Work>\n    <dc:type rdf:resource=\"http://purl.org/dc/dcmitype/StillImage\"/>\n    <dc:date>2024-09-16T00:35:02.700723</dc:date>\n    <dc:format>image/svg+xml</dc:format>\n    <dc:creator>\n     <cc:Agent>\n      <dc:title>Matplotlib v3.7.1, https://matplotlib.org/</dc:title>\n     </cc:Agent>\n    </dc:creator>\n   </cc:Work>\n  </rdf:RDF>\n </metadata>\n <defs>\n  <style type=\"text/css\">*{stroke-linejoin: round; stroke-linecap: butt}</style>\n </defs>\n <g id=\"figure_1\">\n  <g id=\"patch_1\">\n   <path d=\"M 0 183.35625 \nL 238.965625 183.35625 \nL 238.965625 0 \nL 0 0 \nz\n\" style=\"fill: #ffffff\"/>\n  </g>\n  <g id=\"axes_1\">\n   <g id=\"patch_2\">\n    <path d=\"M 30.103125 145.8 \nL 225.403125 145.8 \nL 225.403125 7.2 \nL 30.103125 7.2 \nz\n\" style=\"fill: #ffffff\"/>\n   </g>\n   <g id=\"matplotlib.axis_1\">\n    <g id=\"xtick_1\">\n     <g id=\"line2d_1\">\n      <path d=\"M 30.103125 145.8 \nL 30.103125 7.2 \n\" clip-path=\"url(#p8ef078c2a5)\" style=\"fill: none; stroke: #b0b0b0; stroke-width: 0.8; stroke-linecap: square\"/>\n     </g>\n     <g id=\"line2d_2\">\n      <defs>\n       <path id=\"m82fa1eec2b\" d=\"M 0 0 \nL 0 3.5 \n\" style=\"stroke: #000000; stroke-width: 0.8\"/>\n      </defs>\n      <g>\n       <use xlink:href=\"#m82fa1eec2b\" x=\"30.103125\" y=\"145.8\" style=\"stroke: #000000; stroke-width: 0.8\"/>\n      </g>\n     </g>\n     <g id=\"text_1\">\n      <!-- 0 -->\n      <g transform=\"translate(26.921875 160.398438) scale(0.1 -0.1)\">\n       <defs>\n        <path id=\"DejaVuSans-30\" d=\"M 2034 4250 \nQ 1547 4250 1301 3770 \nQ 1056 3291 1056 2328 \nQ 1056 1369 1301 889 \nQ 1547 409 2034 409 \nQ 2525 409 2770 889 \nQ 3016 1369 3016 2328 \nQ 3016 3291 2770 3770 \nQ 2525 4250 2034 4250 \nz\nM 2034 4750 \nQ 2819 4750 3233 4129 \nQ 3647 3509 3647 2328 \nQ 3647 1150 3233 529 \nQ 2819 -91 2034 -91 \nQ 1250 -91 836 529 \nQ 422 1150 422 2328 \nQ 422 3509 836 4129 \nQ 1250 4750 2034 4750 \nz\n\" transform=\"scale(0.015625)\"/>\n       </defs>\n       <use xlink:href=\"#DejaVuSans-30\"/>\n      </g>\n     </g>\n    </g>\n    <g id=\"xtick_2\">\n     <g id=\"line2d_3\">\n      <path d=\"M 69.163125 145.8 \nL 69.163125 7.2 \n\" clip-path=\"url(#p8ef078c2a5)\" style=\"fill: none; stroke: #b0b0b0; stroke-width: 0.8; stroke-linecap: square\"/>\n     </g>\n     <g id=\"line2d_4\">\n      <g>\n       <use xlink:href=\"#m82fa1eec2b\" x=\"69.163125\" y=\"145.8\" style=\"stroke: #000000; stroke-width: 0.8\"/>\n      </g>\n     </g>\n     <g id=\"text_2\">\n      <!-- 10 -->\n      <g transform=\"translate(62.800625 160.398438) scale(0.1 -0.1)\">\n       <defs>\n        <path id=\"DejaVuSans-31\" d=\"M 794 531 \nL 1825 531 \nL 1825 4091 \nL 703 3866 \nL 703 4441 \nL 1819 4666 \nL 2450 4666 \nL 2450 531 \nL 3481 531 \nL 3481 0 \nL 794 0 \nL 794 531 \nz\n\" transform=\"scale(0.015625)\"/>\n       </defs>\n       <use xlink:href=\"#DejaVuSans-31\"/>\n       <use xlink:href=\"#DejaVuSans-30\" x=\"63.623047\"/>\n      </g>\n     </g>\n    </g>\n    <g id=\"xtick_3\">\n     <g id=\"line2d_5\">\n      <path d=\"M 108.223125 145.8 \nL 108.223125 7.2 \n\" clip-path=\"url(#p8ef078c2a5)\" style=\"fill: none; stroke: #b0b0b0; stroke-width: 0.8; stroke-linecap: square\"/>\n     </g>\n     <g id=\"line2d_6\">\n      <g>\n       <use xlink:href=\"#m82fa1eec2b\" x=\"108.223125\" y=\"145.8\" style=\"stroke: #000000; stroke-width: 0.8\"/>\n      </g>\n     </g>\n     <g id=\"text_3\">\n      <!-- 20 -->\n      <g transform=\"translate(101.860625 160.398438) scale(0.1 -0.1)\">\n       <defs>\n        <path id=\"DejaVuSans-32\" d=\"M 1228 531 \nL 3431 531 \nL 3431 0 \nL 469 0 \nL 469 531 \nQ 828 903 1448 1529 \nQ 2069 2156 2228 2338 \nQ 2531 2678 2651 2914 \nQ 2772 3150 2772 3378 \nQ 2772 3750 2511 3984 \nQ 2250 4219 1831 4219 \nQ 1534 4219 1204 4116 \nQ 875 4013 500 3803 \nL 500 4441 \nQ 881 4594 1212 4672 \nQ 1544 4750 1819 4750 \nQ 2544 4750 2975 4387 \nQ 3406 4025 3406 3419 \nQ 3406 3131 3298 2873 \nQ 3191 2616 2906 2266 \nQ 2828 2175 2409 1742 \nQ 1991 1309 1228 531 \nz\n\" transform=\"scale(0.015625)\"/>\n       </defs>\n       <use xlink:href=\"#DejaVuSans-32\"/>\n       <use xlink:href=\"#DejaVuSans-30\" x=\"63.623047\"/>\n      </g>\n     </g>\n    </g>\n    <g id=\"xtick_4\">\n     <g id=\"line2d_7\">\n      <path d=\"M 147.283125 145.8 \nL 147.283125 7.2 \n\" clip-path=\"url(#p8ef078c2a5)\" style=\"fill: none; stroke: #b0b0b0; stroke-width: 0.8; stroke-linecap: square\"/>\n     </g>\n     <g id=\"line2d_8\">\n      <g>\n       <use xlink:href=\"#m82fa1eec2b\" x=\"147.283125\" y=\"145.8\" style=\"stroke: #000000; stroke-width: 0.8\"/>\n      </g>\n     </g>\n     <g id=\"text_4\">\n      <!-- 30 -->\n      <g transform=\"translate(140.920625 160.398438) scale(0.1 -0.1)\">\n       <defs>\n        <path id=\"DejaVuSans-33\" d=\"M 2597 2516 \nQ 3050 2419 3304 2112 \nQ 3559 1806 3559 1356 \nQ 3559 666 3084 287 \nQ 2609 -91 1734 -91 \nQ 1441 -91 1130 -33 \nQ 819 25 488 141 \nL 488 750 \nQ 750 597 1062 519 \nQ 1375 441 1716 441 \nQ 2309 441 2620 675 \nQ 2931 909 2931 1356 \nQ 2931 1769 2642 2001 \nQ 2353 2234 1838 2234 \nL 1294 2234 \nL 1294 2753 \nL 1863 2753 \nQ 2328 2753 2575 2939 \nQ 2822 3125 2822 3475 \nQ 2822 3834 2567 4026 \nQ 2313 4219 1838 4219 \nQ 1578 4219 1281 4162 \nQ 984 4106 628 3988 \nL 628 4550 \nQ 988 4650 1302 4700 \nQ 1616 4750 1894 4750 \nQ 2613 4750 3031 4423 \nQ 3450 4097 3450 3541 \nQ 3450 3153 3228 2886 \nQ 3006 2619 2597 2516 \nz\n\" transform=\"scale(0.015625)\"/>\n       </defs>\n       <use xlink:href=\"#DejaVuSans-33\"/>\n       <use xlink:href=\"#DejaVuSans-30\" x=\"63.623047\"/>\n      </g>\n     </g>\n    </g>\n    <g id=\"xtick_5\">\n     <g id=\"line2d_9\">\n      <path d=\"M 186.343125 145.8 \nL 186.343125 7.2 \n\" clip-path=\"url(#p8ef078c2a5)\" style=\"fill: none; stroke: #b0b0b0; stroke-width: 0.8; stroke-linecap: square\"/>\n     </g>\n     <g id=\"line2d_10\">\n      <g>\n       <use xlink:href=\"#m82fa1eec2b\" x=\"186.343125\" y=\"145.8\" style=\"stroke: #000000; stroke-width: 0.8\"/>\n      </g>\n     </g>\n     <g id=\"text_5\">\n      <!-- 40 -->\n      <g transform=\"translate(179.980625 160.398438) scale(0.1 -0.1)\">\n       <defs>\n        <path id=\"DejaVuSans-34\" d=\"M 2419 4116 \nL 825 1625 \nL 2419 1625 \nL 2419 4116 \nz\nM 2253 4666 \nL 3047 4666 \nL 3047 1625 \nL 3713 1625 \nL 3713 1100 \nL 3047 1100 \nL 3047 0 \nL 2419 0 \nL 2419 1100 \nL 313 1100 \nL 313 1709 \nL 2253 4666 \nz\n\" transform=\"scale(0.015625)\"/>\n       </defs>\n       <use xlink:href=\"#DejaVuSans-34\"/>\n       <use xlink:href=\"#DejaVuSans-30\" x=\"63.623047\"/>\n      </g>\n     </g>\n    </g>\n    <g id=\"xtick_6\">\n     <g id=\"line2d_11\">\n      <path d=\"M 225.403125 145.8 \nL 225.403125 7.2 \n\" clip-path=\"url(#p8ef078c2a5)\" style=\"fill: none; stroke: #b0b0b0; stroke-width: 0.8; stroke-linecap: square\"/>\n     </g>\n     <g id=\"line2d_12\">\n      <g>\n       <use xlink:href=\"#m82fa1eec2b\" x=\"225.403125\" y=\"145.8\" style=\"stroke: #000000; stroke-width: 0.8\"/>\n      </g>\n     </g>\n     <g id=\"text_6\">\n      <!-- 50 -->\n      <g transform=\"translate(219.040625 160.398438) scale(0.1 -0.1)\">\n       <defs>\n        <path id=\"DejaVuSans-35\" d=\"M 691 4666 \nL 3169 4666 \nL 3169 4134 \nL 1269 4134 \nL 1269 2991 \nQ 1406 3038 1543 3061 \nQ 1681 3084 1819 3084 \nQ 2600 3084 3056 2656 \nQ 3513 2228 3513 1497 \nQ 3513 744 3044 326 \nQ 2575 -91 1722 -91 \nQ 1428 -91 1123 -41 \nQ 819 9 494 109 \nL 494 744 \nQ 775 591 1075 516 \nQ 1375 441 1709 441 \nQ 2250 441 2565 725 \nQ 2881 1009 2881 1497 \nQ 2881 1984 2565 2268 \nQ 2250 2553 1709 2553 \nQ 1456 2553 1204 2497 \nQ 953 2441 691 2322 \nL 691 4666 \nz\n\" transform=\"scale(0.015625)\"/>\n       </defs>\n       <use xlink:href=\"#DejaVuSans-35\"/>\n       <use xlink:href=\"#DejaVuSans-30\" x=\"63.623047\"/>\n      </g>\n     </g>\n    </g>\n    <g id=\"text_7\">\n     <!-- Epoch -->\n     <g transform=\"translate(112.442188 174.076563) scale(0.1 -0.1)\">\n      <defs>\n       <path id=\"DejaVuSans-45\" d=\"M 628 4666 \nL 3578 4666 \nL 3578 4134 \nL 1259 4134 \nL 1259 2753 \nL 3481 2753 \nL 3481 2222 \nL 1259 2222 \nL 1259 531 \nL 3634 531 \nL 3634 0 \nL 628 0 \nL 628 4666 \nz\n\" transform=\"scale(0.015625)\"/>\n       <path id=\"DejaVuSans-70\" d=\"M 1159 525 \nL 1159 -1331 \nL 581 -1331 \nL 581 3500 \nL 1159 3500 \nL 1159 2969 \nQ 1341 3281 1617 3432 \nQ 1894 3584 2278 3584 \nQ 2916 3584 3314 3078 \nQ 3713 2572 3713 1747 \nQ 3713 922 3314 415 \nQ 2916 -91 2278 -91 \nQ 1894 -91 1617 61 \nQ 1341 213 1159 525 \nz\nM 3116 1747 \nQ 3116 2381 2855 2742 \nQ 2594 3103 2138 3103 \nQ 1681 3103 1420 2742 \nQ 1159 2381 1159 1747 \nQ 1159 1113 1420 752 \nQ 1681 391 2138 391 \nQ 2594 391 2855 752 \nQ 3116 1113 3116 1747 \nz\n\" transform=\"scale(0.015625)\"/>\n       <path id=\"DejaVuSans-6f\" d=\"M 1959 3097 \nQ 1497 3097 1228 2736 \nQ 959 2375 959 1747 \nQ 959 1119 1226 758 \nQ 1494 397 1959 397 \nQ 2419 397 2687 759 \nQ 2956 1122 2956 1747 \nQ 2956 2369 2687 2733 \nQ 2419 3097 1959 3097 \nz\nM 1959 3584 \nQ 2709 3584 3137 3096 \nQ 3566 2609 3566 1747 \nQ 3566 888 3137 398 \nQ 2709 -91 1959 -91 \nQ 1206 -91 779 398 \nQ 353 888 353 1747 \nQ 353 2609 779 3096 \nQ 1206 3584 1959 3584 \nz\n\" transform=\"scale(0.015625)\"/>\n       <path id=\"DejaVuSans-63\" d=\"M 3122 3366 \nL 3122 2828 \nQ 2878 2963 2633 3030 \nQ 2388 3097 2138 3097 \nQ 1578 3097 1268 2742 \nQ 959 2388 959 1747 \nQ 959 1106 1268 751 \nQ 1578 397 2138 397 \nQ 2388 397 2633 464 \nQ 2878 531 3122 666 \nL 3122 134 \nQ 2881 22 2623 -34 \nQ 2366 -91 2075 -91 \nQ 1284 -91 818 406 \nQ 353 903 353 1747 \nQ 353 2603 823 3093 \nQ 1294 3584 2113 3584 \nQ 2378 3584 2631 3529 \nQ 2884 3475 3122 3366 \nz\n\" transform=\"scale(0.015625)\"/>\n       <path id=\"DejaVuSans-68\" d=\"M 3513 2113 \nL 3513 0 \nL 2938 0 \nL 2938 2094 \nQ 2938 2591 2744 2837 \nQ 2550 3084 2163 3084 \nQ 1697 3084 1428 2787 \nQ 1159 2491 1159 1978 \nL 1159 0 \nL 581 0 \nL 581 4863 \nL 1159 4863 \nL 1159 2956 \nQ 1366 3272 1645 3428 \nQ 1925 3584 2291 3584 \nQ 2894 3584 3203 3211 \nQ 3513 2838 3513 2113 \nz\n\" transform=\"scale(0.015625)\"/>\n      </defs>\n      <use xlink:href=\"#DejaVuSans-45\"/>\n      <use xlink:href=\"#DejaVuSans-70\" x=\"63.183594\"/>\n      <use xlink:href=\"#DejaVuSans-6f\" x=\"126.660156\"/>\n      <use xlink:href=\"#DejaVuSans-63\" x=\"187.841797\"/>\n      <use xlink:href=\"#DejaVuSans-68\" x=\"242.822266\"/>\n     </g>\n    </g>\n   </g>\n   <g id=\"matplotlib.axis_2\">\n    <g id=\"ytick_1\">\n     <g id=\"line2d_13\">\n      <path d=\"M 30.103125 117.273485 \nL 225.403125 117.273485 \n\" clip-path=\"url(#p8ef078c2a5)\" style=\"fill: none; stroke: #b0b0b0; stroke-width: 0.8; stroke-linecap: square\"/>\n     </g>\n     <g id=\"line2d_14\">\n      <defs>\n       <path id=\"mf37649b227\" d=\"M 0 0 \nL -3.5 0 \n\" style=\"stroke: #000000; stroke-width: 0.8\"/>\n      </defs>\n      <g>\n       <use xlink:href=\"#mf37649b227\" x=\"30.103125\" y=\"117.273485\" style=\"stroke: #000000; stroke-width: 0.8\"/>\n      </g>\n     </g>\n     <g id=\"text_8\">\n      <!-- 0.5 -->\n      <g transform=\"translate(7.2 121.072704) scale(0.1 -0.1)\">\n       <defs>\n        <path id=\"DejaVuSans-2e\" d=\"M 684 794 \nL 1344 794 \nL 1344 0 \nL 684 0 \nL 684 794 \nz\n\" transform=\"scale(0.015625)\"/>\n       </defs>\n       <use xlink:href=\"#DejaVuSans-30\"/>\n       <use xlink:href=\"#DejaVuSans-2e\" x=\"63.623047\"/>\n       <use xlink:href=\"#DejaVuSans-35\" x=\"95.410156\"/>\n      </g>\n     </g>\n    </g>\n    <g id=\"ytick_2\">\n     <g id=\"line2d_15\">\n      <path d=\"M 30.103125 88.431292 \nL 225.403125 88.431292 \n\" clip-path=\"url(#p8ef078c2a5)\" style=\"fill: none; stroke: #b0b0b0; stroke-width: 0.8; stroke-linecap: square\"/>\n     </g>\n     <g id=\"line2d_16\">\n      <g>\n       <use xlink:href=\"#mf37649b227\" x=\"30.103125\" y=\"88.431292\" style=\"stroke: #000000; stroke-width: 0.8\"/>\n      </g>\n     </g>\n     <g id=\"text_9\">\n      <!-- 1.0 -->\n      <g transform=\"translate(7.2 92.230511) scale(0.1 -0.1)\">\n       <use xlink:href=\"#DejaVuSans-31\"/>\n       <use xlink:href=\"#DejaVuSans-2e\" x=\"63.623047\"/>\n       <use xlink:href=\"#DejaVuSans-30\" x=\"95.410156\"/>\n      </g>\n     </g>\n    </g>\n    <g id=\"ytick_3\">\n     <g id=\"line2d_17\">\n      <path d=\"M 30.103125 59.589099 \nL 225.403125 59.589099 \n\" clip-path=\"url(#p8ef078c2a5)\" style=\"fill: none; stroke: #b0b0b0; stroke-width: 0.8; stroke-linecap: square\"/>\n     </g>\n     <g id=\"line2d_18\">\n      <g>\n       <use xlink:href=\"#mf37649b227\" x=\"30.103125\" y=\"59.589099\" style=\"stroke: #000000; stroke-width: 0.8\"/>\n      </g>\n     </g>\n     <g id=\"text_10\">\n      <!-- 1.5 -->\n      <g transform=\"translate(7.2 63.388318) scale(0.1 -0.1)\">\n       <use xlink:href=\"#DejaVuSans-31\"/>\n       <use xlink:href=\"#DejaVuSans-2e\" x=\"63.623047\"/>\n       <use xlink:href=\"#DejaVuSans-35\" x=\"95.410156\"/>\n      </g>\n     </g>\n    </g>\n    <g id=\"ytick_4\">\n     <g id=\"line2d_19\">\n      <path d=\"M 30.103125 30.746906 \nL 225.403125 30.746906 \n\" clip-path=\"url(#p8ef078c2a5)\" style=\"fill: none; stroke: #b0b0b0; stroke-width: 0.8; stroke-linecap: square\"/>\n     </g>\n     <g id=\"line2d_20\">\n      <g>\n       <use xlink:href=\"#mf37649b227\" x=\"30.103125\" y=\"30.746906\" style=\"stroke: #000000; stroke-width: 0.8\"/>\n      </g>\n     </g>\n     <g id=\"text_11\">\n      <!-- 2.0 -->\n      <g transform=\"translate(7.2 34.546125) scale(0.1 -0.1)\">\n       <use xlink:href=\"#DejaVuSans-32\"/>\n       <use xlink:href=\"#DejaVuSans-2e\" x=\"63.623047\"/>\n       <use xlink:href=\"#DejaVuSans-30\" x=\"95.410156\"/>\n      </g>\n     </g>\n    </g>\n   </g>\n   <g id=\"line2d_21\">\n    <path d=\"M 30.592624 13.5 \nL 31.092112 15.374352 \nL 31.591601 19.509959 \nL 32.590578 30.772163 \nL 33.589555 38.563339 \nL 34.498624 64.861208 \nL 35.997089 66.265624 \nL 37.495555 67.993095 \nL 38.404624 73.536365 \nL 38.904112 74.260076 \nL 39.403601 74.370563 \nL 39.903089 74.860984 \nL 41.401555 75.729489 \nL 42.310624 81.081289 \nL 43.809089 80.634148 \nL 44.308578 80.721532 \nL 45.307555 81.056757 \nL 46.216624 84.298871 \nL 46.716112 84.794148 \nL 47.215601 84.846846 \nL 47.715089 84.787568 \nL 49.213555 85.104872 \nL 50.122624 87.660041 \nL 50.622112 87.425774 \nL 53.119555 88.324248 \nL 54.028624 90.215549 \nL 54.528112 90.219408 \nL 55.027601 90.388915 \nL 56.026578 90.946696 \nL 57.025555 91.153672 \nL 57.934624 93.554047 \nL 58.434112 93.958178 \nL 58.933601 93.245487 \nL 59.433089 93.497084 \nL 60.931555 93.421192 \nL 61.840624 96.392368 \nL 62.340112 96.354275 \nL 62.839601 95.610907 \nL 63.339089 95.847621 \nL 63.838578 95.568337 \nL 64.338066 95.419749 \nL 64.837555 95.469906 \nL 65.746624 97.207897 \nL 66.246112 97.262473 \nL 66.745601 97.053234 \nL 67.245089 97.265546 \nL 67.744578 97.307705 \nL 68.244066 97.017983 \nL 68.743555 97.005127 \nL 69.652624 99.104493 \nL 70.152112 99.062083 \nL 70.651601 98.817327 \nL 71.151089 98.841006 \nL 72.150066 98.388271 \nL 72.649555 98.455329 \nL 73.558624 100.515877 \nL 74.058112 100.212838 \nL 75.057089 100.071317 \nL 76.056066 100.140173 \nL 76.555555 100.077863 \nL 77.464624 100.792187 \nL 77.964112 101.527375 \nL 78.463601 101.963044 \nL 78.963089 101.376248 \nL 79.962066 100.981744 \nL 80.461555 101.048309 \nL 81.370624 103.591597 \nL 81.870112 103.537207 \nL 82.369601 103.109231 \nL 82.869089 102.880295 \nL 83.368578 103.047401 \nL 83.868066 102.79687 \nL 84.367555 102.397999 \nL 85.276624 104.502651 \nL 85.776112 104.183212 \nL 86.275601 104.445266 \nL 86.775089 103.860734 \nL 87.274578 103.735986 \nL 87.774066 103.479264 \nL 88.273555 103.476753 \nL 89.182624 106.488275 \nL 89.682112 105.712302 \nL 90.681089 104.884068 \nL 91.180578 104.669128 \nL 91.680066 104.609466 \nL 92.179555 104.369441 \nL 93.088624 105.856404 \nL 93.588112 105.926042 \nL 94.587089 105.586731 \nL 95.086578 105.447546 \nL 96.085555 105.535373 \nL 96.994624 106.981291 \nL 97.494112 106.584181 \nL 97.993601 106.875053 \nL 98.493089 106.804967 \nL 98.992578 106.533304 \nL 99.492066 106.562259 \nL 99.991555 106.469085 \nL 100.900624 107.386285 \nL 101.400112 107.563374 \nL 101.899601 107.599835 \nL 102.399089 107.492183 \nL 102.898578 107.141 \nL 103.897555 107.119103 \nL 104.806624 109.152735 \nL 105.306112 108.466575 \nL 106.305089 107.969337 \nL 106.804578 108.139627 \nL 107.304066 107.92658 \nL 107.803555 107.859181 \nL 108.712624 109.59209 \nL 110.211089 108.917793 \nL 110.710578 108.376865 \nL 111.709555 107.896865 \nL 112.618624 110.915717 \nL 113.118112 110.529172 \nL 113.617601 109.916046 \nL 114.616578 109.499828 \nL 115.116066 109.439828 \nL 115.615555 109.202947 \nL 116.524624 110.821831 \nL 117.024112 110.355099 \nL 118.023089 110.094509 \nL 119.022066 110.018913 \nL 119.521555 109.856405 \nL 120.430624 112.479265 \nL 120.930112 111.928203 \nL 121.429601 111.044804 \nL 121.929089 110.816857 \nL 122.428578 110.449408 \nL 123.427555 110.502659 \nL 124.336624 113.834866 \nL 124.836112 112.78748 \nL 125.335601 112.356371 \nL 125.835089 112.116338 \nL 126.334578 111.521619 \nL 126.834066 111.201721 \nL 127.333555 111.134936 \nL 128.242624 112.403077 \nL 128.742112 111.802643 \nL 129.241601 112.173936 \nL 129.741089 111.802793 \nL 130.240578 111.955703 \nL 130.740066 111.784106 \nL 131.239555 111.469559 \nL 132.148624 114.48271 \nL 132.648112 115.090533 \nL 133.147601 114.9966 \nL 134.146578 115.070222 \nL 135.145555 114.888086 \nL 136.054624 117.063132 \nL 136.554112 116.831297 \nL 137.053601 116.317625 \nL 137.553089 116.15743 \nL 138.052578 116.250231 \nL 139.051555 116.09355 \nL 139.960624 115.593179 \nL 140.460112 116.722354 \nL 140.959601 116.834429 \nL 141.459089 116.366362 \nL 141.958578 116.450299 \nL 142.957555 116.286804 \nL 143.866624 117.469121 \nL 144.366112 117.043533 \nL 144.865601 117.081975 \nL 145.365089 117.244114 \nL 145.864578 117.205158 \nL 146.364066 116.865079 \nL 146.863555 116.720161 \nL 147.772624 118.09158 \nL 148.771601 117.77057 \nL 149.271089 117.729828 \nL 150.270066 117.83129 \nL 150.769555 117.766609 \nL 152.677601 118.93006 \nL 153.676578 119.263842 \nL 154.176066 119.044884 \nL 154.675555 119.128371 \nL 155.584624 118.867784 \nL 156.084112 119.435499 \nL 156.583601 119.704226 \nL 157.582578 119.479932 \nL 158.082066 119.642884 \nL 158.581555 119.609122 \nL 159.490624 121.165013 \nL 159.990112 120.957499 \nL 160.489601 120.518686 \nL 160.989089 120.442195 \nL 161.488578 120.200982 \nL 162.487555 120.068222 \nL 163.396624 120.917684 \nL 164.395601 120.433644 \nL 165.894066 120.56879 \nL 166.393555 120.312261 \nL 167.302624 121.263372 \nL 167.802112 120.773628 \nL 168.301601 120.55642 \nL 168.801089 120.521813 \nL 169.300578 120.667176 \nL 169.800066 120.502485 \nL 170.299555 120.558903 \nL 171.208624 121.718271 \nL 173.706066 121.315074 \nL 174.205555 121.336326 \nL 175.114624 121.185981 \nL 175.614112 121.457073 \nL 176.113601 121.862637 \nL 176.613089 121.822051 \nL 177.112578 121.668924 \nL 177.612066 121.796937 \nL 178.111555 121.798908 \nL 179.020624 123.09444 \nL 179.520112 122.502839 \nL 180.019601 122.55501 \nL 181.018578 122.11853 \nL 181.518066 122.127125 \nL 182.017555 121.940071 \nL 182.926624 122.695187 \nL 183.426112 122.485885 \nL 183.925601 122.491429 \nL 184.425089 122.211056 \nL 184.924578 122.26279 \nL 185.923555 122.108787 \nL 186.832624 122.834574 \nL 187.332112 122.394385 \nL 187.831601 122.380985 \nL 188.331089 122.673702 \nL 188.830578 122.446447 \nL 189.829555 122.252346 \nL 191.737601 122.591901 \nL 193.236066 122.868738 \nL 193.735555 122.705035 \nL 194.644624 122.718279 \nL 195.144112 123.392783 \nL 195.643601 123.302834 \nL 196.642578 122.943253 \nL 197.142066 122.816122 \nL 197.641555 122.944846 \nL 198.550624 124.007512 \nL 199.050112 123.590782 \nL 200.049089 123.379468 \nL 200.548578 123.096037 \nL 201.547555 122.992271 \nL 202.456624 124.273399 \nL 202.956112 123.584309 \nL 204.454578 123.416297 \nL 204.954066 123.196052 \nL 205.453555 123.193381 \nL 206.362624 123.448688 \nL 206.862112 123.46276 \nL 207.361601 123.176584 \nL 207.861089 123.223518 \nL 208.360578 123.114785 \nL 209.359555 123.143597 \nL 210.268624 122.538189 \nL 210.768112 123.253337 \nL 211.767089 123.511954 \nL 212.266578 123.684373 \nL 212.766066 123.585731 \nL 213.265555 123.742703 \nL 215.173601 123.805405 \nL 215.673089 123.62918 \nL 216.172578 123.329089 \nL 217.171555 123.232789 \nL 219.079601 124.100621 \nL 219.579089 123.7725 \nL 221.077555 123.531838 \nL 221.986624 124.261291 \nL 222.486112 123.587592 \nL 223.984578 123.228604 \nL 224.484066 123.431707 \nL 224.983555 123.475753 \nL 224.983555 123.475753 \n\" clip-path=\"url(#p8ef078c2a5)\" style=\"fill: none; stroke: #1f77b4; stroke-width: 1.5; stroke-linecap: square\"/>\n   </g>\n   <g id=\"line2d_22\">\n    <path d=\"M 30.592624 139.5 \nL 31.092112 138.418418 \nL 31.591601 136.453543 \nL 32.590578 131.640502 \nL 33.589555 128.470436 \nL 34.498624 117.940461 \nL 36.496578 117.102235 \nL 37.495555 116.618098 \nL 38.404624 114.695714 \nL 39.903089 114.096337 \nL 41.401555 113.789245 \nL 42.310624 111.775442 \nL 43.809089 111.89036 \nL 45.307555 111.694323 \nL 46.216624 110.531622 \nL 46.716112 110.265734 \nL 49.213555 110.0668 \nL 50.122624 109.071486 \nL 52.120578 109.013802 \nL 54.028624 108.341418 \nL 54.528112 108.404511 \nL 55.027601 108.236265 \nL 55.527089 108.203967 \nL 56.026578 108.007931 \nL 57.025555 107.956427 \nL 57.934624 106.953388 \nL 58.434112 106.890296 \nL 58.933601 107.367994 \nL 59.932578 107.193139 \nL 60.931555 107.146528 \nL 61.840624 105.952924 \nL 62.340112 106.034043 \nL 62.839601 106.277399 \nL 63.339089 106.221067 \nL 64.338066 106.351007 \nL 64.837555 106.346929 \nL 65.746624 105.700555 \nL 66.246112 105.858286 \nL 66.745601 105.898845 \nL 67.245089 105.707315 \nL 67.744578 105.689739 \nL 68.244066 105.82674 \nL 68.743555 105.781674 \nL 70.152112 105.119205 \nL 70.651601 105.288953 \nL 71.151089 105.21159 \nL 72.150066 105.309984 \nL 72.649555 105.255046 \nL 73.558624 104.456736 \nL 75.057089 104.697838 \nL 76.555555 104.67434 \nL 77.464624 104.375617 \nL 77.964112 104.006076 \nL 78.463601 103.900923 \nL 80.461555 104.271322 \nL 81.370624 103.699628 \nL 82.869089 103.904678 \nL 83.368578 103.710444 \nL 84.367555 103.930108 \nL 85.276624 103.312061 \nL 85.776112 103.321074 \nL 86.275601 103.164846 \nL 86.775089 103.35262 \nL 87.274578 103.353522 \nL 87.774066 103.477303 \nL 88.273555 103.438246 \nL 89.182624 102.627059 \nL 90.181601 102.963551 \nL 92.179555 103.175576 \nL 93.088624 102.77127 \nL 93.588112 102.721697 \nL 95.586066 103.016128 \nL 96.085555 102.938658 \nL 96.994624 102.077255 \nL 97.494112 102.36117 \nL 98.493089 102.223719 \nL 98.992578 102.407137 \nL 99.991555 102.414605 \nL 101.400112 101.942057 \nL 102.898578 102.255716 \nL 103.897555 102.235629 \nL 104.806624 101.689688 \nL 107.803555 102.009012 \nL 108.712624 101.446332 \nL 109.212112 101.613076 \nL 109.711601 101.569512 \nL 111.709555 101.97811 \nL 112.618624 100.986659 \nL 113.118112 100.896527 \nL 114.117089 101.277335 \nL 115.615555 101.384527 \nL 116.524624 100.599092 \nL 117.024112 100.9461 \nL 118.023089 101.189456 \nL 119.022066 101.195465 \nL 119.521555 101.239028 \nL 120.430624 100.463895 \nL 120.930112 100.603599 \nL 121.429601 100.887514 \nL 122.928066 101.085804 \nL 123.427555 101.054902 \nL 124.336624 99.778892 \nL 125.335601 100.391789 \nL 125.835089 100.416575 \nL 126.834066 100.741801 \nL 127.333555 100.781931 \nL 128.242624 100.382776 \nL 129.241601 100.542009 \nL 131.239555 100.787082 \nL 132.148624 99.652708 \nL 132.648112 99.431885 \nL 133.147601 99.532532 \nL 134.146578 99.458023 \nL 135.145555 99.48017 \nL 136.054624 98.52606 \nL 136.554112 98.665764 \nL 137.053601 99.003759 \nL 138.052578 98.960495 \nL 139.960624 99.057838 \nL 140.460112 98.832508 \nL 140.959601 98.856543 \nL 141.459089 99.046571 \nL 142.458066 99.038309 \nL 142.957555 99.104191 \nL 143.866624 98.850534 \nL 144.366112 99.048824 \nL 146.364066 98.888089 \nL 146.863555 98.938091 \nL 147.772624 97.994282 \nL 149.271089 98.359316 \nL 151.678624 98.480994 \nL 152.178112 98.201585 \nL 153.177089 97.994282 \nL 154.675555 98.027759 \nL 155.584624 98.210598 \nL 156.583601 97.919172 \nL 157.582578 98.026729 \nL 158.082066 97.947714 \nL 158.581555 98.00072 \nL 159.490624 97.453491 \nL 159.990112 97.46701 \nL 160.489601 97.636759 \nL 160.989089 97.613475 \nL 161.988066 97.791485 \nL 162.487555 97.767665 \nL 163.396624 97.471517 \nL 164.895089 97.579675 \nL 165.894066 97.479028 \nL 166.393555 97.578388 \nL 167.302624 97.417438 \nL 168.801089 97.586435 \nL 169.800066 97.612724 \nL 170.299555 97.596414 \nL 171.208624 96.840594 \nL 175.114624 97.399412 \nL 176.113601 97.123007 \nL 177.112578 97.188503 \nL 178.111555 97.149618 \nL 179.020624 96.471053 \nL 179.520112 96.696383 \nL 182.017555 96.973217 \nL 182.926624 96.732436 \nL 183.426112 96.813554 \nL 183.925601 96.76248 \nL 184.924578 96.892871 \nL 185.923555 96.937164 \nL 186.832624 96.669344 \nL 188.331089 96.800035 \nL 190.738624 96.957765 \nL 191.238112 96.791022 \nL 193.735555 96.798103 \nL 195.144112 96.538652 \nL 196.642578 96.696383 \nL 197.641555 96.713122 \nL 198.550624 96.416974 \nL 199.050112 96.574705 \nL 199.549601 96.474058 \nL 201.547555 96.656468 \nL 202.456624 96.137566 \nL 202.956112 96.435001 \nL 204.454578 96.553975 \nL 205.453555 96.633291 \nL 206.862112 96.642304 \nL 207.861089 96.734689 \nL 208.860066 96.79703 \nL 209.359555 96.796816 \nL 210.268624 97.08395 \nL 210.768112 96.67385 \nL 212.266578 96.418777 \nL 213.265555 96.459465 \nL 214.174624 96.29079 \nL 214.674112 96.466547 \nL 215.673089 96.437254 \nL 216.672066 96.619771 \nL 217.171555 96.62814 \nL 219.579089 96.311069 \nL 221.077555 96.48908 \nL 221.986624 96.227697 \nL 222.486112 96.574705 \nL 223.485089 96.534146 \nL 223.984578 96.656725 \nL 224.983555 96.534146 \nL 224.983555 96.534146 \n\" clip-path=\"url(#p8ef078c2a5)\" style=\"fill: none; stroke-dasharray: 5.55,2.4; stroke-dashoffset: 0; stroke: #00bfbf; stroke-width: 1.5\"/>\n   </g>\n   <g id=\"line2d_23\">\n    <path d=\"M 34.009125 119.084775 \nL 37.915125 115.029562 \nL 41.821125 112.549134 \nL 45.727125 111.262772 \nL 49.633125 110.841676 \nL 53.539125 110.743613 \nL 57.445125 109.42264 \nL 61.351125 107.703645 \nL 65.257125 107.386381 \nL 69.163125 108.217037 \nL 73.069125 107.346002 \nL 76.975125 106.901833 \nL 80.881125 107.778635 \nL 84.787125 105.978882 \nL 88.693125 105.707766 \nL 92.599125 106.128862 \nL 96.505125 105.384733 \nL 100.411125 106.001956 \nL 104.317125 104.594457 \nL 108.223125 105.748145 \nL 112.129125 105.234754 \nL 116.035125 104.76751 \nL 119.941125 105.523176 \nL 123.847125 104.375256 \nL 127.753125 105.119385 \nL 131.659125 104.409867 \nL 135.565125 104.519467 \nL 139.471125 104.02915 \nL 143.377125 103.884939 \nL 147.283125 104.040687 \nL 151.189125 104.513699 \nL 155.095125 103.158116 \nL 159.001125 103.729191 \nL 162.907125 103.481148 \nL 166.813125 104.432941 \nL 170.719125 103.504222 \nL 174.625125 103.077358 \nL 178.531125 103.538833 \nL 182.437125 103.515759 \nL 186.343125 103.083126 \nL 190.249125 103.175421 \nL 194.155125 103.648433 \nL 198.061125 103.654202 \nL 201.967125 103.331169 \nL 205.873125 103.2158 \nL 209.779125 103.58498 \nL 213.685125 103.36578 \nL 217.591125 103.002368 \nL 221.497125 103.18119 \nL 225.403125 103.331169 \n\" clip-path=\"url(#p8ef078c2a5)\" style=\"fill: none; stroke-dasharray: 9.6,2.4,1.5,2.4; stroke-dashoffset: 0; stroke: #ff0000; stroke-width: 1.5\"/>\n   </g>\n   <g id=\"patch_3\">\n    <path d=\"M 30.103125 145.8 \nL 30.103125 7.2 \n\" style=\"fill: none; stroke: #000000; stroke-width: 0.8; stroke-linejoin: miter; stroke-linecap: square\"/>\n   </g>\n   <g id=\"patch_4\">\n    <path d=\"M 225.403125 145.8 \nL 225.403125 7.2 \n\" style=\"fill: none; stroke: #000000; stroke-width: 0.8; stroke-linejoin: miter; stroke-linecap: square\"/>\n   </g>\n   <g id=\"patch_5\">\n    <path d=\"M 30.103125 145.8 \nL 225.403125 145.8 \n\" style=\"fill: none; stroke: #000000; stroke-width: 0.8; stroke-linejoin: miter; stroke-linecap: square\"/>\n   </g>\n   <g id=\"patch_6\">\n    <path d=\"M 30.103125 7.2 \nL 225.403125 7.2 \n\" style=\"fill: none; stroke: #000000; stroke-width: 0.8; stroke-linejoin: miter; stroke-linecap: square\"/>\n   </g>\n   <g id=\"legend_1\">\n    <g id=\"patch_7\">\n     <path d=\"M 98.117188 59.234375 \nL 218.403125 59.234375 \nQ 220.403125 59.234375 220.403125 57.234375 \nL 220.403125 14.2 \nQ 220.403125 12.2 218.403125 12.2 \nL 98.117188 12.2 \nQ 96.117188 12.2 96.117188 14.2 \nL 96.117188 57.234375 \nQ 96.117188 59.234375 98.117188 59.234375 \nz\n\" style=\"fill: #ffffff; opacity: 0.8; stroke: #cccccc; stroke-linejoin: miter\"/>\n    </g>\n    <g id=\"line2d_24\">\n     <path d=\"M 100.117188 20.298438 \nL 110.117188 20.298438 \nL 120.117188 20.298438 \n\" style=\"fill: none; stroke: #1f77b4; stroke-width: 1.5; stroke-linecap: square\"/>\n    </g>\n    <g id=\"text_12\">\n     <!-- Training Loss -->\n     <g transform=\"translate(128.117188 23.798438) scale(0.1 -0.1)\">\n      <defs>\n       <path id=\"DejaVuSans-54\" d=\"M -19 4666 \nL 3928 4666 \nL 3928 4134 \nL 2272 4134 \nL 2272 0 \nL 1638 0 \nL 1638 4134 \nL -19 4134 \nL -19 4666 \nz\n\" transform=\"scale(0.015625)\"/>\n       <path id=\"DejaVuSans-72\" d=\"M 2631 2963 \nQ 2534 3019 2420 3045 \nQ 2306 3072 2169 3072 \nQ 1681 3072 1420 2755 \nQ 1159 2438 1159 1844 \nL 1159 0 \nL 581 0 \nL 581 3500 \nL 1159 3500 \nL 1159 2956 \nQ 1341 3275 1631 3429 \nQ 1922 3584 2338 3584 \nQ 2397 3584 2469 3576 \nQ 2541 3569 2628 3553 \nL 2631 2963 \nz\n\" transform=\"scale(0.015625)\"/>\n       <path id=\"DejaVuSans-61\" d=\"M 2194 1759 \nQ 1497 1759 1228 1600 \nQ 959 1441 959 1056 \nQ 959 750 1161 570 \nQ 1363 391 1709 391 \nQ 2188 391 2477 730 \nQ 2766 1069 2766 1631 \nL 2766 1759 \nL 2194 1759 \nz\nM 3341 1997 \nL 3341 0 \nL 2766 0 \nL 2766 531 \nQ 2569 213 2275 61 \nQ 1981 -91 1556 -91 \nQ 1019 -91 701 211 \nQ 384 513 384 1019 \nQ 384 1609 779 1909 \nQ 1175 2209 1959 2209 \nL 2766 2209 \nL 2766 2266 \nQ 2766 2663 2505 2880 \nQ 2244 3097 1772 3097 \nQ 1472 3097 1187 3025 \nQ 903 2953 641 2809 \nL 641 3341 \nQ 956 3463 1253 3523 \nQ 1550 3584 1831 3584 \nQ 2591 3584 2966 3190 \nQ 3341 2797 3341 1997 \nz\n\" transform=\"scale(0.015625)\"/>\n       <path id=\"DejaVuSans-69\" d=\"M 603 3500 \nL 1178 3500 \nL 1178 0 \nL 603 0 \nL 603 3500 \nz\nM 603 4863 \nL 1178 4863 \nL 1178 4134 \nL 603 4134 \nL 603 4863 \nz\n\" transform=\"scale(0.015625)\"/>\n       <path id=\"DejaVuSans-6e\" d=\"M 3513 2113 \nL 3513 0 \nL 2938 0 \nL 2938 2094 \nQ 2938 2591 2744 2837 \nQ 2550 3084 2163 3084 \nQ 1697 3084 1428 2787 \nQ 1159 2491 1159 1978 \nL 1159 0 \nL 581 0 \nL 581 3500 \nL 1159 3500 \nL 1159 2956 \nQ 1366 3272 1645 3428 \nQ 1925 3584 2291 3584 \nQ 2894 3584 3203 3211 \nQ 3513 2838 3513 2113 \nz\n\" transform=\"scale(0.015625)\"/>\n       <path id=\"DejaVuSans-67\" d=\"M 2906 1791 \nQ 2906 2416 2648 2759 \nQ 2391 3103 1925 3103 \nQ 1463 3103 1205 2759 \nQ 947 2416 947 1791 \nQ 947 1169 1205 825 \nQ 1463 481 1925 481 \nQ 2391 481 2648 825 \nQ 2906 1169 2906 1791 \nz\nM 3481 434 \nQ 3481 -459 3084 -895 \nQ 2688 -1331 1869 -1331 \nQ 1566 -1331 1297 -1286 \nQ 1028 -1241 775 -1147 \nL 775 -588 \nQ 1028 -725 1275 -790 \nQ 1522 -856 1778 -856 \nQ 2344 -856 2625 -561 \nQ 2906 -266 2906 331 \nL 2906 616 \nQ 2728 306 2450 153 \nQ 2172 0 1784 0 \nQ 1141 0 747 490 \nQ 353 981 353 1791 \nQ 353 2603 747 3093 \nQ 1141 3584 1784 3584 \nQ 2172 3584 2450 3431 \nQ 2728 3278 2906 2969 \nL 2906 3500 \nL 3481 3500 \nL 3481 434 \nz\n\" transform=\"scale(0.015625)\"/>\n       <path id=\"DejaVuSans-20\" transform=\"scale(0.015625)\"/>\n       <path id=\"DejaVuSans-4c\" d=\"M 628 4666 \nL 1259 4666 \nL 1259 531 \nL 3531 531 \nL 3531 0 \nL 628 0 \nL 628 4666 \nz\n\" transform=\"scale(0.015625)\"/>\n       <path id=\"DejaVuSans-73\" d=\"M 2834 3397 \nL 2834 2853 \nQ 2591 2978 2328 3040 \nQ 2066 3103 1784 3103 \nQ 1356 3103 1142 2972 \nQ 928 2841 928 2578 \nQ 928 2378 1081 2264 \nQ 1234 2150 1697 2047 \nL 1894 2003 \nQ 2506 1872 2764 1633 \nQ 3022 1394 3022 966 \nQ 3022 478 2636 193 \nQ 2250 -91 1575 -91 \nQ 1294 -91 989 -36 \nQ 684 19 347 128 \nL 347 722 \nQ 666 556 975 473 \nQ 1284 391 1588 391 \nQ 1994 391 2212 530 \nQ 2431 669 2431 922 \nQ 2431 1156 2273 1281 \nQ 2116 1406 1581 1522 \nL 1381 1569 \nQ 847 1681 609 1914 \nQ 372 2147 372 2553 \nQ 372 3047 722 3315 \nQ 1072 3584 1716 3584 \nQ 2034 3584 2315 3537 \nQ 2597 3491 2834 3397 \nz\n\" transform=\"scale(0.015625)\"/>\n      </defs>\n      <use xlink:href=\"#DejaVuSans-54\"/>\n      <use xlink:href=\"#DejaVuSans-72\" x=\"46.333984\"/>\n      <use xlink:href=\"#DejaVuSans-61\" x=\"87.447266\"/>\n      <use xlink:href=\"#DejaVuSans-69\" x=\"148.726562\"/>\n      <use xlink:href=\"#DejaVuSans-6e\" x=\"176.509766\"/>\n      <use xlink:href=\"#DejaVuSans-69\" x=\"239.888672\"/>\n      <use xlink:href=\"#DejaVuSans-6e\" x=\"267.671875\"/>\n      <use xlink:href=\"#DejaVuSans-67\" x=\"331.050781\"/>\n      <use xlink:href=\"#DejaVuSans-20\" x=\"394.527344\"/>\n      <use xlink:href=\"#DejaVuSans-4c\" x=\"426.314453\"/>\n      <use xlink:href=\"#DejaVuSans-6f\" x=\"480.277344\"/>\n      <use xlink:href=\"#DejaVuSans-73\" x=\"541.458984\"/>\n      <use xlink:href=\"#DejaVuSans-73\" x=\"593.558594\"/>\n     </g>\n    </g>\n    <g id=\"line2d_25\">\n     <path d=\"M 100.117188 34.976563 \nL 110.117188 34.976563 \nL 120.117188 34.976563 \n\" style=\"fill: none; stroke-dasharray: 5.55,2.4; stroke-dashoffset: 0; stroke: #00bfbf; stroke-width: 1.5\"/>\n    </g>\n    <g id=\"text_13\">\n     <!-- Training Accuracy -->\n     <g transform=\"translate(128.117188 38.476563) scale(0.1 -0.1)\">\n      <defs>\n       <path id=\"DejaVuSans-41\" d=\"M 2188 4044 \nL 1331 1722 \nL 3047 1722 \nL 2188 4044 \nz\nM 1831 4666 \nL 2547 4666 \nL 4325 0 \nL 3669 0 \nL 3244 1197 \nL 1141 1197 \nL 716 0 \nL 50 0 \nL 1831 4666 \nz\n\" transform=\"scale(0.015625)\"/>\n       <path id=\"DejaVuSans-75\" d=\"M 544 1381 \nL 544 3500 \nL 1119 3500 \nL 1119 1403 \nQ 1119 906 1312 657 \nQ 1506 409 1894 409 \nQ 2359 409 2629 706 \nQ 2900 1003 2900 1516 \nL 2900 3500 \nL 3475 3500 \nL 3475 0 \nL 2900 0 \nL 2900 538 \nQ 2691 219 2414 64 \nQ 2138 -91 1772 -91 \nQ 1169 -91 856 284 \nQ 544 659 544 1381 \nz\nM 1991 3584 \nL 1991 3584 \nz\n\" transform=\"scale(0.015625)\"/>\n       <path id=\"DejaVuSans-79\" d=\"M 2059 -325 \nQ 1816 -950 1584 -1140 \nQ 1353 -1331 966 -1331 \nL 506 -1331 \nL 506 -850 \nL 844 -850 \nQ 1081 -850 1212 -737 \nQ 1344 -625 1503 -206 \nL 1606 56 \nL 191 3500 \nL 800 3500 \nL 1894 763 \nL 2988 3500 \nL 3597 3500 \nL 2059 -325 \nz\n\" transform=\"scale(0.015625)\"/>\n      </defs>\n      <use xlink:href=\"#DejaVuSans-54\"/>\n      <use xlink:href=\"#DejaVuSans-72\" x=\"46.333984\"/>\n      <use xlink:href=\"#DejaVuSans-61\" x=\"87.447266\"/>\n      <use xlink:href=\"#DejaVuSans-69\" x=\"148.726562\"/>\n      <use xlink:href=\"#DejaVuSans-6e\" x=\"176.509766\"/>\n      <use xlink:href=\"#DejaVuSans-69\" x=\"239.888672\"/>\n      <use xlink:href=\"#DejaVuSans-6e\" x=\"267.671875\"/>\n      <use xlink:href=\"#DejaVuSans-67\" x=\"331.050781\"/>\n      <use xlink:href=\"#DejaVuSans-20\" x=\"394.527344\"/>\n      <use xlink:href=\"#DejaVuSans-41\" x=\"426.314453\"/>\n      <use xlink:href=\"#DejaVuSans-63\" x=\"492.972656\"/>\n      <use xlink:href=\"#DejaVuSans-63\" x=\"547.953125\"/>\n      <use xlink:href=\"#DejaVuSans-75\" x=\"602.933594\"/>\n      <use xlink:href=\"#DejaVuSans-72\" x=\"666.3125\"/>\n      <use xlink:href=\"#DejaVuSans-61\" x=\"707.425781\"/>\n      <use xlink:href=\"#DejaVuSans-63\" x=\"768.705078\"/>\n      <use xlink:href=\"#DejaVuSans-79\" x=\"823.685547\"/>\n     </g>\n    </g>\n    <g id=\"line2d_26\">\n     <path d=\"M 100.117188 49.654688 \nL 110.117188 49.654688 \nL 120.117188 49.654688 \n\" style=\"fill: none; stroke-dasharray: 9.6,2.4,1.5,2.4; stroke-dashoffset: 0; stroke: #ff0000; stroke-width: 1.5\"/>\n    </g>\n    <g id=\"text_14\">\n     <!-- Test Accuracy -->\n     <g transform=\"translate(128.117188 53.154688) scale(0.1 -0.1)\">\n      <defs>\n       <path id=\"DejaVuSans-65\" d=\"M 3597 1894 \nL 3597 1613 \nL 953 1613 \nQ 991 1019 1311 708 \nQ 1631 397 2203 397 \nQ 2534 397 2845 478 \nQ 3156 559 3463 722 \nL 3463 178 \nQ 3153 47 2828 -22 \nQ 2503 -91 2169 -91 \nQ 1331 -91 842 396 \nQ 353 884 353 1716 \nQ 353 2575 817 3079 \nQ 1281 3584 2069 3584 \nQ 2775 3584 3186 3129 \nQ 3597 2675 3597 1894 \nz\nM 3022 2063 \nQ 3016 2534 2758 2815 \nQ 2500 3097 2075 3097 \nQ 1594 3097 1305 2825 \nQ 1016 2553 972 2059 \nL 3022 2063 \nz\n\" transform=\"scale(0.015625)\"/>\n       <path id=\"DejaVuSans-74\" d=\"M 1172 4494 \nL 1172 3500 \nL 2356 3500 \nL 2356 3053 \nL 1172 3053 \nL 1172 1153 \nQ 1172 725 1289 603 \nQ 1406 481 1766 481 \nL 2356 481 \nL 2356 0 \nL 1766 0 \nQ 1100 0 847 248 \nQ 594 497 594 1153 \nL 594 3053 \nL 172 3053 \nL 172 3500 \nL 594 3500 \nL 594 4494 \nL 1172 4494 \nz\n\" transform=\"scale(0.015625)\"/>\n      </defs>\n      <use xlink:href=\"#DejaVuSans-54\"/>\n      <use xlink:href=\"#DejaVuSans-65\" x=\"44.083984\"/>\n      <use xlink:href=\"#DejaVuSans-73\" x=\"105.607422\"/>\n      <use xlink:href=\"#DejaVuSans-74\" x=\"157.707031\"/>\n      <use xlink:href=\"#DejaVuSans-20\" x=\"196.916016\"/>\n      <use xlink:href=\"#DejaVuSans-41\" x=\"228.703125\"/>\n      <use xlink:href=\"#DejaVuSans-63\" x=\"295.361328\"/>\n      <use xlink:href=\"#DejaVuSans-63\" x=\"350.341797\"/>\n      <use xlink:href=\"#DejaVuSans-75\" x=\"405.322266\"/>\n      <use xlink:href=\"#DejaVuSans-72\" x=\"468.701172\"/>\n      <use xlink:href=\"#DejaVuSans-61\" x=\"509.814453\"/>\n      <use xlink:href=\"#DejaVuSans-63\" x=\"571.09375\"/>\n      <use xlink:href=\"#DejaVuSans-79\" x=\"626.074219\"/>\n     </g>\n    </g>\n   </g>\n  </g>\n </g>\n <defs>\n  <clipPath id=\"p8ef078c2a5\">\n   <rect x=\"30.103125\" y=\"7.2\" width=\"195.3\" height=\"138.6\"/>\n  </clipPath>\n </defs>\n</svg>\n"
          },
          "metadata": {}
        }
      ],
      "source": [
        "# Select device\n",
        "device = torch.device('cuda' if torch.cuda.is_available() else 'cpu')\n",
        "print('Using:', device)\n",
        "# Use training script to train the model\n",
        "Train(Model, TrainLoader, TestLoader, device)"
      ]
    },
    {
      "cell_type": "code",
      "execution_count": 12,
      "metadata": {
        "id": "6PRxNc3F-pTf"
      },
      "outputs": [],
      "source": []
    },
    {
      "cell_type": "code",
      "execution_count": 12,
      "metadata": {
        "id": "Ml0J1_YN-pTf"
      },
      "outputs": [],
      "source": []
    },
    {
      "cell_type": "code",
      "execution_count": 12,
      "metadata": {
        "id": "0BG-PUC--pTf"
      },
      "outputs": [],
      "source": []
    },
    {
      "cell_type": "code",
      "execution_count": 12,
      "metadata": {
        "id": "obc1g91c-pTf"
      },
      "outputs": [],
      "source": []
    }
  ],
  "metadata": {
    "colab": {
      "provenance": [],
      "gpuType": "T4",
      "include_colab_link": true
    },
    "kernelspec": {
      "display_name": "Python 3",
      "name": "python3"
    },
    "language_info": {
      "codemirror_mode": {
        "name": "ipython",
        "version": 3
      },
      "file_extension": ".py",
      "mimetype": "text/x-python",
      "name": "python",
      "nbconvert_exporter": "python",
      "pygments_lexer": "ipython3",
      "version": "3.11.7"
    },
    "accelerator": "GPU"
  },
  "nbformat": 4,
  "nbformat_minor": 0
}